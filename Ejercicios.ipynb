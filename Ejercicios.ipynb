{
  "nbformat": 4,
  "nbformat_minor": 0,
  "metadata": {
    "colab": {
      "provenance": [],
      "authorship_tag": "ABX9TyPG0ImqikEJNJD/y26WXIAx",
      "include_colab_link": true
    },
    "kernelspec": {
      "name": "python3",
      "display_name": "Python 3"
    },
    "language_info": {
      "name": "python"
    }
  },
  "cells": [
    {
      "cell_type": "markdown",
      "metadata": {
        "id": "view-in-github",
        "colab_type": "text"
      },
      "source": [
        "<a href=\"https://colab.research.google.com/github/dulce22-05/Probabilidad-y-Estadistica-/blob/main/Ejercicios.ipynb\" target=\"_parent\"><img src=\"https://colab.research.google.com/assets/colab-badge.svg\" alt=\"Open In Colab\"/></a>"
      ]
    },
    {
      "cell_type": "markdown",
      "source": [
        "# Práctica 1 estadística descriptiva básica e histogramas\n",
        "## facilitador:\n",
        "## alumno:"
      ],
      "metadata": {
        "id": "-7QGGOFdxEBc"
      }
    },
    {
      "cell_type": "code",
      "source": [
        "from statistics import *"
      ],
      "metadata": {
        "id": "XNwLZEvmvvYV"
      },
      "execution_count": 23,
      "outputs": []
    },
    {
      "cell_type": "code",
      "source": [
        "# lista de calificaciones del grupo a  de probabilidad y estadística\n",
        "\n",
        "grupoa = [70, 70, 65, 90, 100, 95, 45, 80, 73, 20, 100, 96]\n",
        "print (grupoa)"
      ],
      "metadata": {
        "colab": {
          "base_uri": "https://localhost:8080/"
        },
        "id": "euqVOPiOwPY5",
        "outputId": "340d1f00-bedd-4589-b304-f5c4e2840404"
      },
      "execution_count": 20,
      "outputs": [
        {
          "output_type": "stream",
          "name": "stdout",
          "text": [
            "[70, 70, 65, 90, 100, 95, 45, 80, 73, 20, 100, 96]\n"
          ]
        }
      ]
    },
    {
      "cell_type": "code",
      "source": [
        "# la función type nos devuelve el tipo de datos de la variable\n",
        "\n",
        "type (grupoa)"
      ],
      "metadata": {
        "colab": {
          "base_uri": "https://localhost:8080/"
        },
        "id": "5B5drq7zw4oI",
        "outputId": "f4e808ca-0d9a-4062-8674-9195ac7c9c52"
      },
      "execution_count": 5,
      "outputs": [
        {
          "output_type": "execute_result",
          "data": {
            "text/plain": [
              "list"
            ]
          },
          "metadata": {},
          "execution_count": 5
        }
      ]
    },
    {
      "cell_type": "code",
      "source": [
        "# sacar la media de las calificaciones con una fórmula\n",
        "\n",
        "promedio = sum(grupoa) / len(grupoa)\n",
        "print (promedio)"
      ],
      "metadata": {
        "colab": {
          "base_uri": "https://localhost:8080/"
        },
        "id": "skwyTx37xi2M",
        "outputId": "75e7b7a1-9c1e-45c2-aa72-362a4b55db88"
      },
      "execution_count": 10,
      "outputs": [
        {
          "output_type": "stream",
          "name": "stdout",
          "text": [
            "75.33333333333333\n"
          ]
        }
      ]
    },
    {
      "cell_type": "code",
      "source": [
        "# utilizar la función mean que está en la librería statistics para sacar el promedio\n",
        "\n",
        "promedio2 = mean(grupoa)\n",
        "print (promedio2)"
      ],
      "metadata": {
        "colab": {
          "base_uri": "https://localhost:8080/"
        },
        "id": "KppS8em1x8jC",
        "outputId": "b1b37588-659e-489b-da1b-b86bd765b817"
      },
      "execution_count": 22,
      "outputs": [
        {
          "output_type": "stream",
          "name": "stdout",
          "text": [
            "75.33333333333333\n"
          ]
        }
      ]
    },
    {
      "cell_type": "code",
      "source": [
        "# determinar la mediana con la función median\n",
        "\n",
        "mediana = median(grupoa)\n",
        "print(mediana)"
      ],
      "metadata": {
        "colab": {
          "base_uri": "https://localhost:8080/"
        },
        "id": "mJogrG6HzHir",
        "outputId": "21ed73b2-ff91-4b1a-d08a-f765b116b70e"
      },
      "execution_count": 24,
      "outputs": [
        {
          "output_type": "stream",
          "name": "stdout",
          "text": [
            "76.5\n"
          ]
        }
      ]
    },
    {
      "cell_type": "code",
      "source": [
        "# determinar la moda con la función mode\n",
        "\n",
        "moda = mode(grupoa)\n",
        "print (moda)"
      ],
      "metadata": {
        "colab": {
          "base_uri": "https://localhost:8080/"
        },
        "id": "1ZxCWMmDzn3T",
        "outputId": "988a1a92-7727-40ba-dec2-01576b49fbcf"
      },
      "execution_count": 25,
      "outputs": [
        {
          "output_type": "stream",
          "name": "stdout",
          "text": [
            "70\n"
          ]
        }
      ]
    },
    {
      "cell_type": "code",
      "source": [
        "# en caso de haber múltiples modas, se determinará usando la función multimode\n",
        "\n",
        "moda2 = multimode(grupoa)\n",
        "print (moda2)"
      ],
      "metadata": {
        "colab": {
          "base_uri": "https://localhost:8080/"
        },
        "id": "7O7tBm_zz8hi",
        "outputId": "2d006dce-88e2-4118-fd4b-1fd82f2c4d5f"
      },
      "execution_count": 26,
      "outputs": [
        {
          "output_type": "stream",
          "name": "stdout",
          "text": [
            "[70, 100]\n"
          ]
        }
      ]
    },
    {
      "cell_type": "markdown",
      "source": [
        "# ejemplo 2"
      ],
      "metadata": {
        "id": "E3NgWZl20S0X"
      }
    },
    {
      "cell_type": "code",
      "source": [
        "# definimos una variable llamada tiempos100mts de tipo lista, que contiene los\n",
        "# tiempos que tardaron los 10 alumnos para correr los 100 metros\n",
        "\n",
        "tiempos100mts = [15.10, 17.20, 14.69, 13.27, 22.15, 18.71, 19.15, 20.65, 15.10, 17.20]\n",
        "\n",
        "# desplegamos los valores de la lista\n",
        "\n",
        "print (tiempos100mts)"
      ],
      "metadata": {
        "colab": {
          "base_uri": "https://localhost:8080/"
        },
        "id": "XT3VYhuJ0hpU",
        "outputId": "71f72b26-e1cb-4172-d81c-0a1f420f772a"
      },
      "execution_count": 27,
      "outputs": [
        {
          "output_type": "stream",
          "name": "stdout",
          "text": [
            "[15.1, 17.2, 14.69, 13.27, 22.15, 18.71, 19.15, 20.65, 15.1, 17.2]\n"
          ]
        }
      ]
    },
    {
      "cell_type": "code",
      "source": [
        "# usamos la función mean para el tiempo promedio\n",
        "\n",
        "print(\"el tiempo promedio de los corredores es =\", mean(tiempos100mts))"
      ],
      "metadata": {
        "colab": {
          "base_uri": "https://localhost:8080/"
        },
        "id": "ycuHsohD1O0I",
        "outputId": "cac2d093-3c22-4180-f0a3-5b91d0bb0cae"
      },
      "execution_count": 28,
      "outputs": [
        {
          "output_type": "stream",
          "name": "stdout",
          "text": [
            "el tiempo promedio de los corredores es = 17.322\n"
          ]
        }
      ]
    },
    {
      "cell_type": "code",
      "source": [
        "# usamos la función median para calcular la mediana d ellos tiempos\n",
        "\n",
        "# definimos una variable llamada mediana para calcular la mediana de los tiempos\n",
        "# median\n",
        "\n",
        "mediana= median(tiempos100mts)\n",
        "print(\"la mediana de los tiempos es de =\", mediana)"
      ],
      "metadata": {
        "colab": {
          "base_uri": "https://localhost:8080/"
        },
        "id": "IcKRvY0B1ntR",
        "outputId": "cfb1f4fa-20a5-4de7-defd-85187e9f61f0"
      },
      "execution_count": 31,
      "outputs": [
        {
          "output_type": "stream",
          "name": "stdout",
          "text": [
            "la mediana de los tiempos es de = 17.2\n"
          ]
        }
      ]
    },
    {
      "cell_type": "code",
      "source": [
        "# usamos la función mode para calcular la moda delos tiempos\n",
        "\n",
        "# definimos una variable llamada moda para calcular la moda de los tiempos\n",
        "# mode\n",
        "\n",
        "moda= mode(tiempos100mts)\n",
        "print(\"la moda de los tiempos es de =\", moda)"
      ],
      "metadata": {
        "id": "4Qd4xBAX2BPD"
      },
      "execution_count": null,
      "outputs": []
    },
    {
      "cell_type": "code",
      "source": [
        "multimodas= multimode (tiempos100mts)\n",
        "print (\"la moda de los tiempos es =\", multimodas)"
      ],
      "metadata": {
        "colab": {
          "base_uri": "https://localhost:8080/"
        },
        "id": "ksYx4-bj2eoT",
        "outputId": "c401c9a4-257b-42cf-84a1-112e3b23cf0b"
      },
      "execution_count": 33,
      "outputs": [
        {
          "output_type": "stream",
          "name": "stdout",
          "text": [
            "la moda de los tiempos es = [15.1, 17.2]\n"
          ]
        }
      ]
    },
    {
      "cell_type": "markdown",
      "source": [
        "# Ejemplo 3 Histogramas de 2 grupos"
      ],
      "metadata": {
        "id": "wAQsZQr-25KT"
      }
    },
    {
      "cell_type": "code",
      "source": [
        "# librería para generar números aleatorios\n",
        "\n",
        "import random"
      ],
      "metadata": {
        "id": "R_43e8HC3D-V"
      },
      "execution_count": 34,
      "outputs": []
    },
    {
      "cell_type": "code",
      "source": [
        "fabrica1 =[]\n",
        "for i in range (100):\n",
        "   numero_aleatorio = round(random.uniform(50,100),2)\n",
        "   fabrica1.append(numero_aleatorio)\n",
        "print (fabrica1)"
      ],
      "metadata": {
        "colab": {
          "base_uri": "https://localhost:8080/"
        },
        "id": "7uwSjH_C3Md_",
        "outputId": "fd741760-3333-4bb9-e84b-673424559881"
      },
      "execution_count": 35,
      "outputs": [
        {
          "output_type": "stream",
          "name": "stdout",
          "text": [
            "[87.37, 90.95, 78.9, 99.77, 80.77, 86.82, 67.29, 81.03, 94.15, 89.01, 90.96, 95.91, 66.93, 76.34, 64.03, 64.99, 56.63, 92.53, 75.17, 94.17, 52.95, 87.75, 78.47, 86.96, 54.88, 91.05, 96.68, 51.6, 73.02, 95.38, 57.35, 65.91, 72.7, 70.12, 70.31, 92.5, 99.07, 54.43, 93.82, 50.73, 82.36, 59.52, 90.17, 80.74, 90.19, 97.91, 82.26, 99.48, 70.58, 53.41, 61.58, 51.4, 72.14, 66.53, 95.75, 88.58, 82.4, 75.13, 91.96, 89.84, 55.5, 96.15, 95.34, 81.44, 76.69, 80.06, 86.68, 61.42, 73.99, 97.18, 96.0, 98.06, 65.09, 76.57, 94.06, 81.89, 69.83, 77.69, 82.73, 92.72, 59.54, 58.02, 59.84, 99.23, 99.77, 57.37, 53.5, 51.07, 89.67, 50.13, 62.39, 93.88, 70.78, 79.78, 53.23, 82.2, 81.32, 55.25, 56.58, 57.0]\n"
          ]
        }
      ]
    },
    {
      "cell_type": "code",
      "source": [
        "fabrica2 =[]\n",
        "for i in range (100):\n",
        "   numero_aleatorio2 = round(random.uniform(50,100),2)\n",
        "   fabrica2.append(numero_aleatorio2)\n",
        "print (fabrica2)"
      ],
      "metadata": {
        "colab": {
          "base_uri": "https://localhost:8080/"
        },
        "id": "5ss4NXxB4r8h",
        "outputId": "f675c6d6-45e4-4935-ca3f-73a53c54f013"
      },
      "execution_count": 37,
      "outputs": [
        {
          "output_type": "stream",
          "name": "stdout",
          "text": [
            "[81.84, 55.6, 78.43, 56.48, 69.32, 52.25, 74.91, 52.61, 99.06, 57.74, 55.25, 75.53, 59.92, 54.35, 66.9, 50.03, 68.47, 94.13, 83.51, 87.24, 73.53, 59.85, 81.57, 99.79, 81.51, 55.57, 79.13, 93.98, 87.79, 60.96, 97.72, 59.09, 76.33, 81.38, 74.36, 58.28, 66.59, 97.15, 72.4, 65.55, 95.5, 60.94, 75.71, 62.75, 87.75, 94.43, 90.18, 59.56, 65.11, 96.11, 64.16, 51.56, 62.78, 82.49, 90.29, 61.66, 55.02, 85.53, 51.93, 89.5, 62.95, 66.76, 52.19, 64.25, 76.87, 70.48, 70.84, 90.71, 89.46, 87.95, 57.19, 51.8, 56.83, 57.62, 73.93, 72.32, 57.09, 74.89, 67.87, 66.9, 66.21, 55.78, 96.12, 89.52, 66.28, 78.71, 69.31, 62.7, 72.54, 99.84, 72.19, 72.25, 95.69, 97.1, 98.66, 59.6, 53.52, 79.79, 79.16, 90.56]\n"
          ]
        }
      ]
    },
    {
      "cell_type": "code",
      "source": [
        "# librería de Python para graficar valores\n",
        "\n",
        "import matplotlib.pyplot as plt"
      ],
      "metadata": {
        "id": "jdrD40b_46Uf"
      },
      "execution_count": 40,
      "outputs": []
    },
    {
      "cell_type": "code",
      "source": [
        "plt.hist(fabrica1)\n",
        "plt.title(\"Producción diaria de la fábrica 1\")"
      ],
      "metadata": {
        "colab": {
          "base_uri": "https://localhost:8080/",
          "height": 269
        },
        "id": "z7bSFiRS5LUH",
        "outputId": "4293e245-b608-4961-8c4e-f516fe7f60c1"
      },
      "execution_count": 41,
      "outputs": [
        {
          "output_type": "execute_result",
          "data": {
            "text/plain": [
              "Text(0.5, 1.0, 'Producción diaria de la fábrica 1')"
            ]
          },
          "metadata": {},
          "execution_count": 41
        },
        {
          "output_type": "display_data",
          "data": {
            "text/plain": [
              "<Figure size 640x480 with 1 Axes>"
            ],
            "image/png": "[encoded data removed]"
          },
          "metadata": {}
        }
      ]
    }
  ]
}