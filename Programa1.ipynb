{
  "nbformat": 4,
  "nbformat_minor": 0,
  "metadata": {
    "colab": {
      "provenance": [],
      "authorship_tag": "ABX9TyOPqRE3M5G4sdAZfwnIP3HV",
      "include_colab_link": true
    },
    "kernelspec": {
      "name": "python3",
      "display_name": "Python 3"
    },
    "language_info": {
      "name": "python"
    }
  },
  "cells": [
    {
      "cell_type": "markdown",
      "metadata": {
        "id": "view-in-github",
        "colab_type": "text"
      },
      "source": [
        "<a href=\"https://colab.research.google.com/github/dulce22-05/Probabilidad-y-Estadistica-/blob/main/Programa1.ipynb\" target=\"_parent\"><img src=\"https://colab.research.google.com/assets/colab-badge.svg\" alt=\"Open In Colab\"/></a>"
      ]
    },
    {
      "cell_type": "markdown",
      "source": [
        "\n",
        "\n",
        "# Probabilidad y estadística\n",
        "## Unidad 1\n",
        "### Grupo: **2Z**\n",
        "### Práctica 0. Introducción a Python\n",
        "Alumno: Morales Amador Dulce Nahomy\n",
        "Docente: Dr. Jose Gabriel Rodriguez Rivas"
      ],
      "metadata": {
        "id": "UtO-JcU76dss"
      }
    },
    {
      "cell_type": "code",
      "execution_count": null,
      "metadata": {
        "colab": {
          "base_uri": "https://localhost:8080/"
        },
        "id": "OAb6dvb_yRa_",
        "outputId": "a0ab7687-b5db-4f30-bcb6-cca8f058cbac"
      },
      "outputs": [
        {
          "output_type": "stream",
          "name": "stdout",
          "text": [
            "10\n"
          ]
        }
      ],
      "source": [
        "X = 10\n",
        "print(X)"
      ]
    },
    {
      "cell_type": "code",
      "source": [
        "X= \"hola\"\n",
        "print (X)"
      ],
      "metadata": {
        "colab": {
          "base_uri": "https://localhost:8080/"
        },
        "id": "5H1j5LwPzUgf",
        "outputId": "48c8f83d-830e-4893-aa2f-bb726f9133fb"
      },
      "execution_count": null,
      "outputs": [
        {
          "output_type": "stream",
          "name": "stdout",
          "text": [
            "hola\n"
          ]
        }
      ]
    },
    {
      "cell_type": "code",
      "source": [
        "print (type (X))"
      ],
      "metadata": {
        "colab": {
          "base_uri": "https://localhost:8080/"
        },
        "id": "GJKxgpwrz9wN",
        "outputId": "a6b4c953-98b6-4e46-c1b8-2cdb524e8c32"
      },
      "execution_count": null,
      "outputs": [
        {
          "output_type": "stream",
          "name": "stdout",
          "text": [
            "<class 'str'>\n"
          ]
        }
      ]
    },
    {
      "cell_type": "code",
      "source": [
        " a = 12\n",
        " b = 25\n",
        "if a > b:\n",
        "    print(a,\" es mayor que \", b)\n",
        "else:\n",
        "    print(b,\" es mayor que \",a)"
      ],
      "metadata": {
        "colab": {
          "base_uri": "https://localhost:8080/"
        },
        "id": "0j2GcSJQ3oaj",
        "outputId": "8afb379b-37aa-45fc-d7fb-4f6629df5f57"
      },
      "execution_count": null,
      "outputs": [
        {
          "output_type": "stream",
          "name": "stdout",
          "text": [
            "25  es mayor que  12\n"
          ]
        }
      ]
    },
    {
      "cell_type": "code",
      "source": [
        "\n",
        "#comentario\n",
        "for i in range (10):\n",
        "     print (i)\n",
        "     print (\"hola\", i)\n",
        "print (\"fuera del for\")"
      ],
      "metadata": {
        "colab": {
          "base_uri": "https://localhost:8080/"
        },
        "collapsed": true,
        "id": "IOyDrWN84nXf",
        "outputId": "abbe074c-28c8-4cdc-9e91-959c1f18b8db"
      },
      "execution_count": null,
      "outputs": [
        {
          "output_type": "stream",
          "name": "stdout",
          "text": [
            "0\n",
            "hola 0\n",
            "1\n",
            "hola 1\n",
            "2\n",
            "hola 2\n",
            "3\n",
            "hola 3\n",
            "4\n",
            "hola 4\n",
            "5\n",
            "hola 5\n",
            "6\n",
            "hola 6\n",
            "7\n",
            "hola 7\n",
            "8\n",
            "hola 8\n",
            "9\n",
            "hola 9\n",
            "fuera del for\n"
          ]
        }
      ]
    }
  ]
}