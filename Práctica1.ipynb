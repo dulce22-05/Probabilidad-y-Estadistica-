{
  "nbformat": 4,
  "nbformat_minor": 0,
  "metadata": {
    "colab": {
      "provenance": [],
      "authorship_tag": "ABX9TyMjnb5EQ0rFf0KVqlRbJL53",
      "include_colab_link": true
    },
    "kernelspec": {
      "name": "python3",
      "display_name": "Python 3"
    },
    "language_info": {
      "name": "python"
    }
  },
  "cells": [
    {
      "cell_type": "markdown",
      "metadata": {
        "id": "view-in-github",
        "colab_type": "text"
      },
      "source": [
        "<a href=\"https://colab.research.google.com/github/dulce22-05/Probabilidad-y-Estadistica-/blob/main/Pr%C3%A1ctica1.ipynb\" target=\"_parent\"><img src=\"https://colab.research.google.com/assets/colab-badge.svg\" alt=\"Open In Colab\"/></a>"
      ]
    },
    {
      "cell_type": "markdown",
      "source": [
        "\n",
        "#probabilidad y estadística\n",
        "# Práctica 1 estadística descriptiva básica e histogramas\n",
        "## unidad 1\n",
        "## facilitador: Dr. Jose Gabriel Rodriguez Rivas\n",
        "## alumna: Morales Amador Dulce Nahomy"
      ],
      "metadata": {
        "id": "-7QGGOFdxEBc"
      }
    },
    {
      "cell_type": "code",
      "source": [
        "from statistics import *"
      ],
      "metadata": {
        "id": "XNwLZEvmvvYV"
      },
      "execution_count": 2,
      "outputs": []
    },
    {
      "cell_type": "code",
      "source": [
        "# lista de calificaciones del grupo a  de probabilidad y estadística\n",
        "\n",
        "grupoa = [70, 70, 65, 90, 100, 95, 45, 80, 73, 20, 100, 96]\n",
        "print (grupoa)"
      ],
      "metadata": {
        "colab": {
          "base_uri": "https://localhost:8080/"
        },
        "id": "euqVOPiOwPY5",
        "outputId": "a83847ce-3d98-4fb3-d17c-7456c0bbefed"
      },
      "execution_count": 3,
      "outputs": [
        {
          "output_type": "stream",
          "name": "stdout",
          "text": [
            "[70, 70, 65, 90, 100, 95, 45, 80, 73, 20, 100, 96]\n"
          ]
        }
      ]
    },
    {
      "cell_type": "code",
      "source": [
        "# la función type nos devuelve el tipo de datos de la variable\n",
        "\n",
        "type (grupoa)"
      ],
      "metadata": {
        "colab": {
          "base_uri": "https://localhost:8080/"
        },
        "id": "5B5drq7zw4oI",
        "outputId": "c4531a1a-fb56-462d-940d-f865b5a9b3ae"
      },
      "execution_count": 4,
      "outputs": [
        {
          "output_type": "execute_result",
          "data": {
            "text/plain": [
              "list"
            ]
          },
          "metadata": {},
          "execution_count": 4
        }
      ]
    },
    {
      "cell_type": "code",
      "source": [
        "# sacar la media de las calificaciones con una fórmula\n",
        "\n",
        "promedio = sum(grupoa) / len(grupoa)\n",
        "print (promedio)"
      ],
      "metadata": {
        "colab": {
          "base_uri": "https://localhost:8080/"
        },
        "id": "skwyTx37xi2M",
        "outputId": "b7224b78-dea0-45b7-98a8-16e6a61918ad"
      },
      "execution_count": 5,
      "outputs": [
        {
          "output_type": "stream",
          "name": "stdout",
          "text": [
            "75.33333333333333\n"
          ]
        }
      ]
    },
    {
      "cell_type": "code",
      "source": [
        "# utilizar la función mean que está en la librería statistics para sacar el promedio\n",
        "\n",
        "promedio2 = mean(grupoa)\n",
        "print (promedio2)"
      ],
      "metadata": {
        "colab": {
          "base_uri": "https://localhost:8080/"
        },
        "id": "KppS8em1x8jC",
        "outputId": "2925e970-8c30-4a96-b387-3fd874730c84"
      },
      "execution_count": 6,
      "outputs": [
        {
          "output_type": "stream",
          "name": "stdout",
          "text": [
            "75.33333333333333\n"
          ]
        }
      ]
    },
    {
      "cell_type": "code",
      "source": [
        "# determinar la mediana con la función median\n",
        "\n",
        "mediana = median(grupoa)\n",
        "print(mediana)"
      ],
      "metadata": {
        "colab": {
          "base_uri": "https://localhost:8080/"
        },
        "id": "mJogrG6HzHir",
        "outputId": "181810ed-0317-4d9a-cbac-04eba4a1d6c6"
      },
      "execution_count": 7,
      "outputs": [
        {
          "output_type": "stream",
          "name": "stdout",
          "text": [
            "76.5\n"
          ]
        }
      ]
    },
    {
      "cell_type": "code",
      "source": [
        "# determinar la moda con la función mode\n",
        "\n",
        "moda = mode(grupoa)\n",
        "print (moda)"
      ],
      "metadata": {
        "colab": {
          "base_uri": "https://localhost:8080/"
        },
        "id": "1ZxCWMmDzn3T",
        "outputId": "9fffd669-b309-477a-b82c-bfba088ced9f"
      },
      "execution_count": 8,
      "outputs": [
        {
          "output_type": "stream",
          "name": "stdout",
          "text": [
            "70\n"
          ]
        }
      ]
    },
    {
      "cell_type": "code",
      "source": [
        "# en caso de haber múltiples modas, se determinará usando la función multimode\n",
        "\n",
        "moda2 = multimode(grupoa)\n",
        "print (moda2)"
      ],
      "metadata": {
        "colab": {
          "base_uri": "https://localhost:8080/"
        },
        "id": "7O7tBm_zz8hi",
        "outputId": "49f62260-24ff-45f9-ec3e-604cc25158d5"
      },
      "execution_count": 9,
      "outputs": [
        {
          "output_type": "stream",
          "name": "stdout",
          "text": [
            "[70, 100]\n"
          ]
        }
      ]
    },
    {
      "cell_type": "markdown",
      "source": [
        "# ejemplo 2"
      ],
      "metadata": {
        "id": "E3NgWZl20S0X"
      }
    },
    {
      "cell_type": "code",
      "source": [
        "# definimos una variable llamada tiempos100mts de tipo lista, que contiene los\n",
        "# tiempos que tardaron los 10 alumnos para correr los 100 metros\n",
        "\n",
        "tiempos100mts = [15.10, 17.20, 14.69, 13.27, 22.15, 18.71, 19.15, 20.65, 15.10, 17.20]\n",
        "\n",
        "# desplegamos los valores de la lista\n",
        "\n",
        "print (tiempos100mts)"
      ],
      "metadata": {
        "colab": {
          "base_uri": "https://localhost:8080/"
        },
        "id": "XT3VYhuJ0hpU",
        "outputId": "b2fb7295-b0c4-47c8-a223-e459513ce2ae"
      },
      "execution_count": 10,
      "outputs": [
        {
          "output_type": "stream",
          "name": "stdout",
          "text": [
            "[15.1, 17.2, 14.69, 13.27, 22.15, 18.71, 19.15, 20.65, 15.1, 17.2]\n"
          ]
        }
      ]
    },
    {
      "cell_type": "code",
      "source": [
        "# usamos la función mean para el tiempo promedio\n",
        "\n",
        "print(\"el tiempo promedio de los corredores es =\", mean(tiempos100mts))"
      ],
      "metadata": {
        "colab": {
          "base_uri": "https://localhost:8080/"
        },
        "id": "ycuHsohD1O0I",
        "outputId": "e496abd7-fe8b-4838-e902-0673cac70c78"
      },
      "execution_count": 11,
      "outputs": [
        {
          "output_type": "stream",
          "name": "stdout",
          "text": [
            "el tiempo promedio de los corredores es = 17.322\n"
          ]
        }
      ]
    },
    {
      "cell_type": "code",
      "source": [
        "# usamos la función median para calcular la mediana d ellos tiempos\n",
        "\n",
        "# definimos una variable llamada mediana para calcular la mediana de los tiempos\n",
        "# median\n",
        "\n",
        "mediana= median(tiempos100mts)\n",
        "print(\"la mediana de los tiempos es de =\", mediana)"
      ],
      "metadata": {
        "colab": {
          "base_uri": "https://localhost:8080/"
        },
        "id": "IcKRvY0B1ntR",
        "outputId": "07d0778f-221d-4824-e59c-522054106350"
      },
      "execution_count": 12,
      "outputs": [
        {
          "output_type": "stream",
          "name": "stdout",
          "text": [
            "la mediana de los tiempos es de = 17.2\n"
          ]
        }
      ]
    },
    {
      "cell_type": "code",
      "source": [
        "# usamos la función mode para calcular la moda delos tiempos\n",
        "\n",
        "# definimos una variable llamada moda para calcular la moda de los tiempos\n",
        "# mode\n",
        "\n",
        "moda= mode(tiempos100mts)\n",
        "print(\"la moda de los tiempos es de =\", moda)"
      ],
      "metadata": {
        "id": "4Qd4xBAX2BPD",
        "colab": {
          "base_uri": "https://localhost:8080/"
        },
        "outputId": "57199764-f88e-432d-d6b6-d8b6caaced86"
      },
      "execution_count": 13,
      "outputs": [
        {
          "output_type": "stream",
          "name": "stdout",
          "text": [
            "la moda de los tiempos es de = 15.1\n"
          ]
        }
      ]
    },
    {
      "cell_type": "code",
      "source": [
        "multimodas= multimode (tiempos100mts)\n",
        "print (\"la moda de los tiempos es =\", multimodas)"
      ],
      "metadata": {
        "colab": {
          "base_uri": "https://localhost:8080/"
        },
        "id": "ksYx4-bj2eoT",
        "outputId": "e5887f9c-7e5f-4740-e581-2cc247c2d12e"
      },
      "execution_count": 14,
      "outputs": [
        {
          "output_type": "stream",
          "name": "stdout",
          "text": [
            "la moda de los tiempos es = [15.1, 17.2]\n"
          ]
        }
      ]
    },
    {
      "cell_type": "markdown",
      "source": [
        "# Ejemplo 3 Histogramas de 2 grupos"
      ],
      "metadata": {
        "id": "wAQsZQr-25KT"
      }
    },
    {
      "cell_type": "code",
      "source": [
        "# librería para generar números aleatorios\n",
        "\n",
        "import random"
      ],
      "metadata": {
        "id": "R_43e8HC3D-V"
      },
      "execution_count": 15,
      "outputs": []
    },
    {
      "cell_type": "code",
      "source": [
        "fabrica1 =[]\n",
        "for i in range (100):\n",
        "   numero_aleatorio = round(random.uniform(50,100),2)\n",
        "   fabrica1.append(numero_aleatorio)\n",
        "print (fabrica1)"
      ],
      "metadata": {
        "colab": {
          "base_uri": "https://localhost:8080/"
        },
        "id": "7uwSjH_C3Md_",
        "outputId": "9279b053-f2c7-46e6-fa67-fc2afd25d985"
      },
      "execution_count": 16,
      "outputs": [
        {
          "output_type": "stream",
          "name": "stdout",
          "text": [
            "[78.04, 89.01, 84.71, 92.91, 89.83, 66.89, 61.77, 57.78, 75.86, 76.22, 64.92, 69.01, 77.6, 58.48, 92.65, 94.58, 92.35, 88.6, 63.75, 85.67, 63.82, 84.9, 90.0, 64.09, 72.18, 88.0, 79.72, 58.88, 83.58, 70.49, 67.41, 77.23, 99.37, 88.03, 70.65, 77.76, 61.38, 53.88, 92.44, 73.7, 58.41, 53.43, 92.58, 67.37, 81.85, 71.37, 51.38, 78.56, 60.46, 90.29, 65.11, 90.73, 70.82, 81.7, 76.03, 83.34, 70.59, 83.76, 62.78, 71.29, 50.34, 87.22, 70.55, 56.84, 57.83, 61.1, 84.69, 86.12, 60.96, 92.89, 87.24, 56.56, 50.76, 56.51, 99.85, 51.72, 95.31, 66.17, 51.6, 51.15, 54.81, 88.25, 94.55, 63.77, 80.59, 84.22, 53.74, 68.14, 94.63, 78.93, 65.22, 53.83, 76.34, 91.82, 95.86, 66.73, 88.11, 79.21, 70.84, 89.31]\n"
          ]
        }
      ]
    },
    {
      "cell_type": "code",
      "source": [
        "fabrica2 =[]\n",
        "for i in range (100):\n",
        "   numero_aleatorio2 = round(random.uniform(50,100),2)\n",
        "   fabrica2.append(numero_aleatorio2)\n",
        "print (fabrica2)"
      ],
      "metadata": {
        "colab": {
          "base_uri": "https://localhost:8080/"
        },
        "id": "5ss4NXxB4r8h",
        "outputId": "f4ed16b0-f955-4413-f18e-b2e8bfeebd4e"
      },
      "execution_count": 17,
      "outputs": [
        {
          "output_type": "stream",
          "name": "stdout",
          "text": [
            "[96.97, 80.96, 87.0, 90.04, 83.5, 83.32, 91.02, 78.4, 55.02, 57.82, 84.35, 71.19, 54.32, 96.48, 78.41, 72.07, 65.94, 80.14, 61.67, 79.62, 63.27, 57.57, 61.52, 81.62, 55.86, 82.54, 52.65, 78.83, 69.43, 86.63, 62.44, 96.14, 64.75, 55.91, 76.08, 90.69, 68.59, 71.75, 93.74, 66.58, 89.02, 97.12, 63.1, 86.31, 88.12, 92.16, 72.65, 82.49, 88.58, 87.43, 99.01, 68.67, 54.6, 50.66, 85.35, 67.46, 59.85, 67.89, 94.58, 57.33, 56.47, 66.13, 52.02, 93.23, 73.21, 83.09, 80.92, 72.37, 72.44, 53.77, 98.67, 90.45, 76.1, 95.43, 99.46, 79.7, 57.7, 85.44, 80.85, 69.9, 72.24, 78.85, 84.14, 99.68, 98.26, 85.85, 80.84, 57.41, 94.33, 87.75, 55.07, 96.58, 90.4, 65.18, 65.87, 72.52, 60.48, 75.74, 74.73, 79.66]\n"
          ]
        }
      ]
    },
    {
      "cell_type": "code",
      "source": [
        "# librería de Python para graficar valores\n",
        "\n",
        "import matplotlib.pyplot as plt"
      ],
      "metadata": {
        "id": "jdrD40b_46Uf"
      },
      "execution_count": 18,
      "outputs": []
    },
    {
      "cell_type": "code",
      "source": [
        "plt.hist(fabrica1)\n",
        "plt.title(\"Producción diaria de la fábrica 1\")"
      ],
      "metadata": {
        "colab": {
          "base_uri": "https://localhost:8080/",
          "height": 269
        },
        "id": "z7bSFiRS5LUH",
        "outputId": "5c7c8250-3903-4c0c-8993-c0aeb56deba6"
      },
      "execution_count": 19,
      "outputs": [
        {
          "output_type": "execute_result",
          "data": {
            "text/plain": [
              "Text(0.5, 1.0, 'Producción diaria de la fábrica 1')"
            ]
          },
          "metadata": {},
          "execution_count": 19
        },
        {
          "output_type": "display_data",
          "data": {
            "text/plain": [
              "<Figure size 640x480 with 1 Axes>"
            ],
            "image/png": "[encoded data removed]"
          },
          "metadata": {}
        }
      ]
    },
    {
      "cell_type": "code",
      "source": [
        "plt.hist(fabrica2)\n",
        "plt.title(\"Producción diaria de la fábrica 2\")"
      ],
      "metadata": {
        "colab": {
          "base_uri": "https://localhost:8080/",
          "height": 269
        },
        "id": "tsPHTUCd5YwW",
        "outputId": "8ce4c8d8-5680-4cb7-9b39-6fb686354fcf"
      },
      "execution_count": 20,
      "outputs": [
        {
          "output_type": "execute_result",
          "data": {
            "text/plain": [
              "Text(0.5, 1.0, 'Producción diaria de la fábrica 2')"
            ]
          },
          "metadata": {},
          "execution_count": 20
        },
        {
          "output_type": "display_data",
          "data": {
            "text/plain": [
              "<Figure size 640x480 with 1 Axes>"
            ],
            "image/png": "[encoded data removed]"
          },
          "metadata": {}
        }
      ]
    },
    {
      "cell_type": "code",
      "source": [
        "media1 = mean(fabrica1)\n",
        "mediana1 = median(fabrica1)\n",
        "moda1 = mode(fabrica1)\n",
        "\n",
        "print(\"valores de la fábrica 1\")\n",
        "print(\"la media es=\", media1)\n",
        "print(\"la moda es=\", mediana1)\n",
        "print(\"la moda es=\", moda1)"
      ],
      "metadata": {
        "colab": {
          "base_uri": "https://localhost:8080/"
        },
        "id": "lAOYc_Ua5xK4",
        "outputId": "78b4d92f-a3f5-4ced-fc14-9381f3382675"
      },
      "execution_count": 21,
      "outputs": [
        {
          "output_type": "stream",
          "name": "stdout",
          "text": [
            "valores de la fábrica 1\n",
            "la media es= 74.543\n",
            "la moda es= 75.945\n",
            "la moda es= 78.04\n"
          ]
        }
      ]
    },
    {
      "cell_type": "code",
      "source": [
        "media2 = mean(fabrica2)\n",
        "mediana2 = median(fabrica2)\n",
        "moda2 = mode(fabrica2)\n",
        "\n",
        "print(\"valores de la fábrica 2\")\n",
        "print(\"la media es=\", media2)\n",
        "print(\"la moda es=\", mediana2)\n",
        "print(\"la moda es=\", moda2)"
      ],
      "metadata": {
        "colab": {
          "base_uri": "https://localhost:8080/"
        },
        "id": "Rk3fHfJR6nBc",
        "outputId": "ab728b67-ab54-48d3-8ca8-f5e5af1f7219"
      },
      "execution_count": 23,
      "outputs": [
        {
          "output_type": "stream",
          "name": "stdout",
          "text": [
            "valores de la fábrica 2\n",
            "la media es= 76.5014\n",
            "la moda es= 78.62\n",
            "la moda es= 96.97\n"
          ]
        }
      ]
    },
    {
      "cell_type": "code",
      "source": [
        "# generar 2 subplot de 1 renglón por 2 columnas para desplegar los 2 histogramas,\n",
        "# una al lado de la otra\n",
        "\n",
        "fig,(ax1,ax2) = plt.subplots(nrows =1, ncols=2, figsize=(10,5))\n",
        "ax1.hist(fabrica1)\n",
        "ax2.hist(fabrica2)\n",
        "plt.show()"
      ],
      "metadata": {
        "colab": {
          "base_uri": "https://localhost:8080/",
          "height": 158
        },
        "id": "ZLxbwcXt7OLX",
        "outputId": "89f419f4-5f8a-48eb-dc93-29332a18f59a"
      },
      "execution_count": 25,
      "outputs": [
        {
          "output_type": "display_data",
          "data": {
            "text/plain": [
              "<Figure size 1000x500 with 2 Axes>"
            ],
            "image/png": "[encoded data removed]"
          },
          "metadata": {}
        }
      ]
    },
    {
      "cell_type": "code",
      "source": [
        "plt.hist(fabrica1, bins=10, alpha=0.2, color='b', edgecolor=\"black\")\n",
        "plt.axvline(media1,color='b', linestyle='dashed', linewidth=2, label='media')\n",
        "plt.axvline(mediana1,color='r', linestyle='dashed', linewidth=2, label='mediana')\n",
        "plt.axvline(moda1,color='y', linestyle='dashed', linewidth=2, label='moda')\n",
        "plt.xlabel('valor')\n",
        "plt.ylabel('frecuencia')\n",
        "plt.title(\"producción diaria de la fábrica 1\")\n",
        "plt.legend()\n",
        "plt.show()"
      ],
      "metadata": {
        "colab": {
          "base_uri": "https://localhost:8080/",
          "height": 236
        },
        "id": "ffF4Yr4W80Cb",
        "outputId": "9be50c9b-4e01-4d97-c2bd-f2590df325ec"
      },
      "execution_count": 30,
      "outputs": [
        {
          "output_type": "display_data",
          "data": {
            "text/plain": [
              "<Figure size 640x480 with 1 Axes>"
            ],
            "image/png": "[encoded data removed]"
          },
          "metadata": {}
        }
      ]
    },
    {
      "cell_type": "code",
      "source": [
        "plt.hist(fabrica2, bins=10, alpha=0.2, color='b', edgecolor=\"black\")\n",
        "plt.axvline(media2,color='b', linestyle='dashed', linewidth=2, label='media')\n",
        "plt.axvline(mediana2,color='r', linestyle='dashed', linewidth=2, label='mediana')\n",
        "plt.axvline(moda2,color='y', linestyle='dashed', linewidth=2, label='moda')\n",
        "plt.xlabel('valor')\n",
        "plt.ylabel('frecuencia')\n",
        "plt.title(\"producción diaria de la fábrica 2\")\n",
        "plt.legend()\n",
        "plt.show()"
      ],
      "metadata": {
        "colab": {
          "base_uri": "https://localhost:8080/",
          "height": 236
        },
        "id": "XoBqUPJt_Ztz",
        "outputId": "fc438063-3e88-473c-962f-5eaa560e0989"
      },
      "execution_count": 32,
      "outputs": [
        {
          "output_type": "display_data",
          "data": {
            "text/plain": [
              "<Figure size 640x480 with 1 Axes>"
            ],
            "image/png": "[encoded data removed]"
          },
          "metadata": {}
        }
      ]
    }
  ]
}