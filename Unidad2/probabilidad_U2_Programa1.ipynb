{
  "nbformat": 4,
  "nbformat_minor": 0,
  "metadata": {
    "colab": {
      "provenance": [],
      "authorship_tag": "ABX9TyOrgr6VEMit62Nl3eqa5H0a",
      "include_colab_link": true
    },
    "kernelspec": {
      "name": "python3",
      "display_name": "Python 3"
    },
    "language_info": {
      "name": "python"
    }
  },
  "cells": [
    {
      "cell_type": "markdown",
      "metadata": {
        "id": "view-in-github",
        "colab_type": "text"
      },
      "source": [
        "<a href=\"https://colab.research.google.com/github/dulce22-05/Probabilidad-y-Estadistica-/blob/main/Unidad2/probabilidad_U2_Programa1.ipynb\" target=\"_parent\"><img src=\"https://colab.research.google.com/assets/colab-badge.svg\" alt=\"Open In Colab\"/></a>"
      ]
    },
    {
      "cell_type": "markdown",
      "source": [
        "# Combinaciones sin Repeticion"
      ],
      "metadata": {
        "id": "8q_rfuWOjGCg"
      }
    },
    {
      "cell_type": "code",
      "execution_count": 1,
      "metadata": {
        "id": "jeGu2NiT_Py7"
      },
      "outputs": [],
      "source": [
        "import math as mt\n",
        "from itertools import combinations\n",
        "from itertools import combinations_with_replacement\n",
        "import numpy as np"
      ]
    },
    {
      "cell_type": "code",
      "source": [
        "nombres = [\"oscar\",\"paco\",\"paty\", \"laura\", \"ruben\", \"luis\", \"lucy\", \"alberto\",\"juan\",\"danny\"]\n",
        "n = len(nombres)\n",
        "r = 2\n",
        "Cn = mt.factorial(n)/(mt.factorial(r) * mt.factorial(n-r))\n",
        "print(\"existen \",Cn , \"posibles combinaciones sin repeticion del total de \", n , \"nombres \", \"en grupos de \", r , \" en \", r)\n",
        "print(\"aqui las combinaciones\")\n",
        "combinaciones_nombres = list(combinations(nombres,r))\n",
        "for combinacion in combinaciones_nombres:\n",
        "    print(combinacion)\n",
        ""
      ],
      "metadata": {
        "colab": {
          "base_uri": "https://localhost:8080/"
        },
        "id": "yKFGK9-VCiwP",
        "outputId": "49f67556-8c45-4dea-c262-b7731f5015a5"
      },
      "execution_count": 2,
      "outputs": [
        {
          "output_type": "stream",
          "name": "stdout",
          "text": [
            "existen  45.0 posibles combinaciones sin repeticion del total de  10 nombres  en grupos de  2  en  2\n",
            "aqui las combinaciones\n",
            "('oscar', 'paco')\n",
            "('oscar', 'paty')\n",
            "('oscar', 'laura')\n",
            "('oscar', 'ruben')\n",
            "('oscar', 'luis')\n",
            "('oscar', 'lucy')\n",
            "('oscar', 'alberto')\n",
            "('oscar', 'juan')\n",
            "('oscar', 'danny')\n",
            "('paco', 'paty')\n",
            "('paco', 'laura')\n",
            "('paco', 'ruben')\n",
            "('paco', 'luis')\n",
            "('paco', 'lucy')\n",
            "('paco', 'alberto')\n",
            "('paco', 'juan')\n",
            "('paco', 'danny')\n",
            "('paty', 'laura')\n",
            "('paty', 'ruben')\n",
            "('paty', 'luis')\n",
            "('paty', 'lucy')\n",
            "('paty', 'alberto')\n",
            "('paty', 'juan')\n",
            "('paty', 'danny')\n",
            "('laura', 'ruben')\n",
            "('laura', 'luis')\n",
            "('laura', 'lucy')\n",
            "('laura', 'alberto')\n",
            "('laura', 'juan')\n",
            "('laura', 'danny')\n",
            "('ruben', 'luis')\n",
            "('ruben', 'lucy')\n",
            "('ruben', 'alberto')\n",
            "('ruben', 'juan')\n",
            "('ruben', 'danny')\n",
            "('luis', 'lucy')\n",
            "('luis', 'alberto')\n",
            "('luis', 'juan')\n",
            "('luis', 'danny')\n",
            "('lucy', 'alberto')\n",
            "('lucy', 'juan')\n",
            "('lucy', 'danny')\n",
            "('alberto', 'juan')\n",
            "('alberto', 'danny')\n",
            "('juan', 'danny')\n"
          ]
        }
      ]
    }
  ]
}