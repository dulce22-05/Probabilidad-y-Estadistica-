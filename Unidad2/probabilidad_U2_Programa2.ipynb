{
  "nbformat": 4,
  "nbformat_minor": 0,
  "metadata": {
    "colab": {
      "provenance": [],
      "authorship_tag": "ABX9TyPmXhtqduKy5x9mGtlgG4r4",
      "include_colab_link": true
    },
    "kernelspec": {
      "name": "python3",
      "display_name": "Python 3"
    },
    "language_info": {
      "name": "python"
    }
  },
  "cells": [
    {
      "cell_type": "markdown",
      "metadata": {
        "id": "view-in-github",
        "colab_type": "text"
      },
      "source": [
        "<a href=\"https://colab.research.google.com/github/dulce22-05/Probabilidad-y-Estadistica-/blob/main/Unidad2/probabilidad_U2_Programa2.ipynb\" target=\"_parent\"><img src=\"https://colab.research.google.com/assets/colab-badge.svg\" alt=\"Open In Colab\"/></a>"
      ]
    },
    {
      "cell_type": "markdown",
      "source": [
        "# Permutaciones con python\n",
        "## formula para permutaciones\n",
        "![image.png](data:image/png;base64,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)"
      ],
      "metadata": {
        "id": "5x6C4zbGsQGX"
      }
    },
    {
      "cell_type": "code",
      "execution_count": 1,
      "metadata": {
        "id": "SkGP85O3r58b"
      },
      "outputs": [],
      "source": [
        "import math as mt\n",
        "from itertools import permutations\n",
        "from itertools import product\n",
        "import numpy as np\n"
      ]
    },
    {
      "cell_type": "code",
      "source": [
        "mt.factorial(7)\n"
      ],
      "metadata": {
        "colab": {
          "base_uri": "https://localhost:8080/"
        },
        "id": "T6doVEFotQ_U",
        "outputId": "52514510-3577-49da-a319-536750745692"
      },
      "execution_count": 2,
      "outputs": [
        {
          "output_type": "execute_result",
          "data": {
            "text/plain": [
              "5040"
            ]
          },
          "metadata": {},
          "execution_count": 2
        }
      ]
    },
    {
      "cell_type": "code",
      "source": [
        "mt.factorial(4)"
      ],
      "metadata": {
        "colab": {
          "base_uri": "https://localhost:8080/"
        },
        "id": "FpjLmNQVtVwi",
        "outputId": "d07f6fed-bc67-425c-af1d-858196422836"
      },
      "execution_count": 3,
      "outputs": [
        {
          "output_type": "execute_result",
          "data": {
            "text/plain": [
              "24"
            ]
          },
          "metadata": {},
          "execution_count": 3
        }
      ]
    },
    {
      "cell_type": "code",
      "source": [
        "5040/24"
      ],
      "metadata": {
        "colab": {
          "base_uri": "https://localhost:8080/"
        },
        "id": "4yiUAvKvtarU",
        "outputId": "c826f308-cd6f-4829-9793-a8dde01f44c8"
      },
      "execution_count": 4,
      "outputs": [
        {
          "output_type": "execute_result",
          "data": {
            "text/plain": [
              "210.0"
            ]
          },
          "metadata": {},
          "execution_count": 4
        }
      ]
    },
    {
      "cell_type": "markdown",
      "source": [],
      "metadata": {
        "id": "2NGR8E64ttnb"
      }
    },
    {
      "cell_type": "code",
      "source": [
        "nombres = [\"a\",\"b\",\"c\",\"d\",\"e\",\"f\",\"g\"]\n",
        "n = len(nombres)\n",
        "r = 3\n",
        "Pr = mt.factorial(n)/mt.factorial(n-r)\n",
        "print(\"Existen \",\"posibles permutaciones sin repeticiones del total de \",\n",
        "      n , \" nombres \", \" en grupos de \", r , \" en \", r)\n",
        "print(\"aqui las permitaciones\")\n",
        "permutaciones_nombres = list(permutations(nombres,r))\n",
        "\n",
        "for permutacion in permutaciones_nombres:\n",
        "    print(permutacion)\n"
      ],
      "metadata": {
        "colab": {
          "base_uri": "https://localhost:8080/"
        },
        "id": "3jQu11MgtwY8",
        "outputId": "00cd7f4b-1e8f-4e9a-fab1-058f9bf088f7"
      },
      "execution_count": 5,
      "outputs": [
        {
          "output_type": "stream",
          "name": "stdout",
          "text": [
            "Existen  posibles permutaciones sin repeticiones del total de  7  nombres   en grupos de  3  en  3\n",
            "aqui las permitaciones\n",
            "('a', 'b', 'c')\n",
            "('a', 'b', 'd')\n",
            "('a', 'b', 'e')\n",
            "('a', 'b', 'f')\n",
            "('a', 'b', 'g')\n",
            "('a', 'c', 'b')\n",
            "('a', 'c', 'd')\n",
            "('a', 'c', 'e')\n",
            "('a', 'c', 'f')\n",
            "('a', 'c', 'g')\n",
            "('a', 'd', 'b')\n",
            "('a', 'd', 'c')\n",
            "('a', 'd', 'e')\n",
            "('a', 'd', 'f')\n",
            "('a', 'd', 'g')\n",
            "('a', 'e', 'b')\n",
            "('a', 'e', 'c')\n",
            "('a', 'e', 'd')\n",
            "('a', 'e', 'f')\n",
            "('a', 'e', 'g')\n",
            "('a', 'f', 'b')\n",
            "('a', 'f', 'c')\n",
            "('a', 'f', 'd')\n",
            "('a', 'f', 'e')\n",
            "('a', 'f', 'g')\n",
            "('a', 'g', 'b')\n",
            "('a', 'g', 'c')\n",
            "('a', 'g', 'd')\n",
            "('a', 'g', 'e')\n",
            "('a', 'g', 'f')\n",
            "('b', 'a', 'c')\n",
            "('b', 'a', 'd')\n",
            "('b', 'a', 'e')\n",
            "('b', 'a', 'f')\n",
            "('b', 'a', 'g')\n",
            "('b', 'c', 'a')\n",
            "('b', 'c', 'd')\n",
            "('b', 'c', 'e')\n",
            "('b', 'c', 'f')\n",
            "('b', 'c', 'g')\n",
            "('b', 'd', 'a')\n",
            "('b', 'd', 'c')\n",
            "('b', 'd', 'e')\n",
            "('b', 'd', 'f')\n",
            "('b', 'd', 'g')\n",
            "('b', 'e', 'a')\n",
            "('b', 'e', 'c')\n",
            "('b', 'e', 'd')\n",
            "('b', 'e', 'f')\n",
            "('b', 'e', 'g')\n",
            "('b', 'f', 'a')\n",
            "('b', 'f', 'c')\n",
            "('b', 'f', 'd')\n",
            "('b', 'f', 'e')\n",
            "('b', 'f', 'g')\n",
            "('b', 'g', 'a')\n",
            "('b', 'g', 'c')\n",
            "('b', 'g', 'd')\n",
            "('b', 'g', 'e')\n",
            "('b', 'g', 'f')\n",
            "('c', 'a', 'b')\n",
            "('c', 'a', 'd')\n",
            "('c', 'a', 'e')\n",
            "('c', 'a', 'f')\n",
            "('c', 'a', 'g')\n",
            "('c', 'b', 'a')\n",
            "('c', 'b', 'd')\n",
            "('c', 'b', 'e')\n",
            "('c', 'b', 'f')\n",
            "('c', 'b', 'g')\n",
            "('c', 'd', 'a')\n",
            "('c', 'd', 'b')\n",
            "('c', 'd', 'e')\n",
            "('c', 'd', 'f')\n",
            "('c', 'd', 'g')\n",
            "('c', 'e', 'a')\n",
            "('c', 'e', 'b')\n",
            "('c', 'e', 'd')\n",
            "('c', 'e', 'f')\n",
            "('c', 'e', 'g')\n",
            "('c', 'f', 'a')\n",
            "('c', 'f', 'b')\n",
            "('c', 'f', 'd')\n",
            "('c', 'f', 'e')\n",
            "('c', 'f', 'g')\n",
            "('c', 'g', 'a')\n",
            "('c', 'g', 'b')\n",
            "('c', 'g', 'd')\n",
            "('c', 'g', 'e')\n",
            "('c', 'g', 'f')\n",
            "('d', 'a', 'b')\n",
            "('d', 'a', 'c')\n",
            "('d', 'a', 'e')\n",
            "('d', 'a', 'f')\n",
            "('d', 'a', 'g')\n",
            "('d', 'b', 'a')\n",
            "('d', 'b', 'c')\n",
            "('d', 'b', 'e')\n",
            "('d', 'b', 'f')\n",
            "('d', 'b', 'g')\n",
            "('d', 'c', 'a')\n",
            "('d', 'c', 'b')\n",
            "('d', 'c', 'e')\n",
            "('d', 'c', 'f')\n",
            "('d', 'c', 'g')\n",
            "('d', 'e', 'a')\n",
            "('d', 'e', 'b')\n",
            "('d', 'e', 'c')\n",
            "('d', 'e', 'f')\n",
            "('d', 'e', 'g')\n",
            "('d', 'f', 'a')\n",
            "('d', 'f', 'b')\n",
            "('d', 'f', 'c')\n",
            "('d', 'f', 'e')\n",
            "('d', 'f', 'g')\n",
            "('d', 'g', 'a')\n",
            "('d', 'g', 'b')\n",
            "('d', 'g', 'c')\n",
            "('d', 'g', 'e')\n",
            "('d', 'g', 'f')\n",
            "('e', 'a', 'b')\n",
            "('e', 'a', 'c')\n",
            "('e', 'a', 'd')\n",
            "('e', 'a', 'f')\n",
            "('e', 'a', 'g')\n",
            "('e', 'b', 'a')\n",
            "('e', 'b', 'c')\n",
            "('e', 'b', 'd')\n",
            "('e', 'b', 'f')\n",
            "('e', 'b', 'g')\n",
            "('e', 'c', 'a')\n",
            "('e', 'c', 'b')\n",
            "('e', 'c', 'd')\n",
            "('e', 'c', 'f')\n",
            "('e', 'c', 'g')\n",
            "('e', 'd', 'a')\n",
            "('e', 'd', 'b')\n",
            "('e', 'd', 'c')\n",
            "('e', 'd', 'f')\n",
            "('e', 'd', 'g')\n",
            "('e', 'f', 'a')\n",
            "('e', 'f', 'b')\n",
            "('e', 'f', 'c')\n",
            "('e', 'f', 'd')\n",
            "('e', 'f', 'g')\n",
            "('e', 'g', 'a')\n",
            "('e', 'g', 'b')\n",
            "('e', 'g', 'c')\n",
            "('e', 'g', 'd')\n",
            "('e', 'g', 'f')\n",
            "('f', 'a', 'b')\n",
            "('f', 'a', 'c')\n",
            "('f', 'a', 'd')\n",
            "('f', 'a', 'e')\n",
            "('f', 'a', 'g')\n",
            "('f', 'b', 'a')\n",
            "('f', 'b', 'c')\n",
            "('f', 'b', 'd')\n",
            "('f', 'b', 'e')\n",
            "('f', 'b', 'g')\n",
            "('f', 'c', 'a')\n",
            "('f', 'c', 'b')\n",
            "('f', 'c', 'd')\n",
            "('f', 'c', 'e')\n",
            "('f', 'c', 'g')\n",
            "('f', 'd', 'a')\n",
            "('f', 'd', 'b')\n",
            "('f', 'd', 'c')\n",
            "('f', 'd', 'e')\n",
            "('f', 'd', 'g')\n",
            "('f', 'e', 'a')\n",
            "('f', 'e', 'b')\n",
            "('f', 'e', 'c')\n",
            "('f', 'e', 'd')\n",
            "('f', 'e', 'g')\n",
            "('f', 'g', 'a')\n",
            "('f', 'g', 'b')\n",
            "('f', 'g', 'c')\n",
            "('f', 'g', 'd')\n",
            "('f', 'g', 'e')\n",
            "('g', 'a', 'b')\n",
            "('g', 'a', 'c')\n",
            "('g', 'a', 'd')\n",
            "('g', 'a', 'e')\n",
            "('g', 'a', 'f')\n",
            "('g', 'b', 'a')\n",
            "('g', 'b', 'c')\n",
            "('g', 'b', 'd')\n",
            "('g', 'b', 'e')\n",
            "('g', 'b', 'f')\n",
            "('g', 'c', 'a')\n",
            "('g', 'c', 'b')\n",
            "('g', 'c', 'd')\n",
            "('g', 'c', 'e')\n",
            "('g', 'c', 'f')\n",
            "('g', 'd', 'a')\n",
            "('g', 'd', 'b')\n",
            "('g', 'd', 'c')\n",
            "('g', 'd', 'e')\n",
            "('g', 'd', 'f')\n",
            "('g', 'e', 'a')\n",
            "('g', 'e', 'b')\n",
            "('g', 'e', 'c')\n",
            "('g', 'e', 'd')\n",
            "('g', 'e', 'f')\n",
            "('g', 'f', 'a')\n",
            "('g', 'f', 'b')\n",
            "('g', 'f', 'c')\n",
            "('g', 'f', 'd')\n",
            "('g', 'f', 'e')\n"
          ]
        }
      ]
    }
  ]
}