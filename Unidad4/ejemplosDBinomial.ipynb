{
  "nbformat": 4,
  "nbformat_minor": 0,
  "metadata": {
    "colab": {
      "provenance": [],
      "authorship_tag": "ABX9TyO8WiiCV66CWLLFTIglXk31",
      "include_colab_link": true
    },
    "kernelspec": {
      "name": "python3",
      "display_name": "Python 3"
    },
    "language_info": {
      "name": "python"
    }
  },
  "cells": [
    {
      "cell_type": "markdown",
      "metadata": {
        "id": "view-in-github",
        "colab_type": "text"
      },
      "source": [
        "<a href=\"https://colab.research.google.com/github/dulce22-05/Probabilidad-y-Estadistica-/blob/main/Unidad4/ejemplosDBinomial.ipynb\" target=\"_parent\"><img src=\"https://colab.research.google.com/assets/colab-badge.svg\" alt=\"Open In Colab\"/></a>"
      ]
    },
    {
      "cell_type": "markdown",
      "source": [
        "# Distribución binomial"
      ],
      "metadata": {
        "id": "DBDl5r1s9F-C"
      }
    },
    {
      "cell_type": "code",
      "execution_count": null,
      "metadata": {
        "colab": {
          "base_uri": "https://localhost:8080/"
        },
        "id": "YJhFpOkk9ES8",
        "outputId": "c2b6f3bf-c7e3-4dcd-afd9-e9ad16754de0"
      },
      "outputs": [
        {
          "output_type": "stream",
          "name": "stdout",
          "text": [
            "La probabilidad de que ningún paciente sufra la enfermedad es: 0.0507282029895386\n"
          ]
        }
      ],
      "source": [
        "from scipy.stats import binom\n",
        "# Parámetros de la distribución binomial\n",
        "probabilidad_éxito = 0.83\n",
        "núm_pacientes = 16\n",
        "X = 16 # Número de éxitos\n",
        "# Calcular la probabilidad de que ningún paciente sufra la enfermedad\n",
        "probabilidad_ninguno_enfermo = binom.pmf(X, núm_pacientes, probabilidad_éxito)\n",
        "print(\"La probabilidad de que ningún paciente sufra la enfermedad es:\", probabilidad_ninguno_enfermo)"
      ]
    },
    {
      "cell_type": "code",
      "source": [
        "from scipy.stats import binom\n",
        "# Parámetros de la distribución binomial\n",
        "probabilidad_éxito = 0.83\n",
        "núm_pacientes = 16\n",
        "X = 0\n",
        "# Calcular la probabilidad de que todos los pacientes sufran la enfermedad\n",
        "probabilidad_todos_enfermos = binom.pmf(X, núm_pacientes, probabilidad_éxito)\n",
        "print(\"La probabilidad de que todos los pacientes sufran la enfermedad es:\", probabilidad_todos_enfermos)"
      ],
      "metadata": {
        "colab": {
          "base_uri": "https://localhost:8080/"
        },
        "id": "28kKEun-9qDz",
        "outputId": "869f4124-6bc4-427d-a2aa-497e7b3937c9"
      },
      "execution_count": null,
      "outputs": [
        {
          "output_type": "stream",
          "name": "stdout",
          "text": [
            "La probabilidad de que todos los pacientes sufran la enfermedad es: 4.866119187566701e-13\n"
          ]
        }
      ]
    },
    {
      "cell_type": "markdown",
      "source": [
        "#ejemplo 2"
      ],
      "metadata": {
        "id": "S_k6DPOL-cbv"
      }
    },
    {
      "cell_type": "code",
      "source": [
        "from scipy.stats import binom\n",
        "\n",
        "# Parámetros de la distribución binomial\n",
        "\n",
        "n = 10\n",
        "\n",
        "p = 0.10\n",
        "\n",
        "x = 2\n",
        "\n",
        "# Calcular la probabilidad de la variable aleatoria X = 2\n",
        "\n",
        "probabilidad_x_2 = binom.pmf(x, n, p)\n",
        "\n",
        "print(\"La probabilidad de que la variable aleatoria X sea igual a 2 es:\", probabilidad_x_2)"
      ],
      "metadata": {
        "colab": {
          "base_uri": "https://localhost:8080/"
        },
        "id": "EtnVnVR3-LRO",
        "outputId": "81bec6de-909c-4b60-b999-b6581e97d49e"
      },
      "execution_count": null,
      "outputs": [
        {
          "output_type": "stream",
          "name": "stdout",
          "text": [
            "La probabilidad de que la variable aleatoria X sea igual a 2 es: 0.19371024450000007\n"
          ]
        }
      ]
    },
    {
      "cell_type": "markdown",
      "source": [
        "#ejemplo 3"
      ],
      "metadata": {
        "id": "_Jac7xi8Aufn"
      }
    },
    {
      "cell_type": "code",
      "source": [
        "import numpy as np\n",
        "import matplotlib.pyplot as plt\n",
        "from scipy.stats import binom\n",
        "# Parámetros de la distribución binomial\n",
        "\n",
        "n = 10\n",
        "p = 0.10\n",
        "# Calcular las probabilidades para cada valor de x de 0 a 10\n",
        "valores_x = np.arange(0, n+1)\n",
        "probabilidad_x = [binom.pmf(x, n, p) for x in valores_x]\n",
        "# Imprimir la tabla de valores de x y sus probabilidades\n",
        "print(\"Valores de x\\tProbabilidades\")\n",
        "for x, probabilidad in zip (valores_x, probabilidad_x):\n",
        "     print(f\"{x}\\t\\t{probabilidad}\")"
      ],
      "metadata": {
        "colab": {
          "base_uri": "https://localhost:8080/"
        },
        "id": "MiV9QbtP-g1u",
        "outputId": "3709cbea-b673-4912-a88c-e794135f9089"
      },
      "execution_count": null,
      "outputs": [
        {
          "output_type": "stream",
          "name": "stdout",
          "text": [
            "Valores de x\tProbabilidades\n",
            "0\t\t0.34867844009999993\n",
            "1\t\t0.38742048899999965\n",
            "2\t\t0.19371024450000007\n",
            "3\t\t0.05739562799999998\n",
            "4\t\t0.01116026100000001\n",
            "5\t\t0.0014880347999999995\n",
            "6\t\t0.00013778100000000007\n",
            "7\t\t8.748000000000003e-06\n",
            "8\t\t3.6449999999999996e-07\n",
            "9\t\t8.999999999999995e-09\n",
            "10\t\t1.0000000000000006e-10\n"
          ]
        }
      ]
    },
    {
      "cell_type": "markdown",
      "source": [
        "#Distribucion de poisson"
      ],
      "metadata": {
        "id": "2dbljz9zA2Nl"
      }
    },
    {
      "cell_type": "code",
      "source": [],
      "metadata": {
        "id": "Hat449WeAtZQ"
      },
      "execution_count": null,
      "outputs": []
    }
  ]
}