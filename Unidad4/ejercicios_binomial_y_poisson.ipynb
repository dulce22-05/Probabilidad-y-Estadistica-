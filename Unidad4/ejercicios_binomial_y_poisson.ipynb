{
  "nbformat": 4,
  "nbformat_minor": 0,
  "metadata": {
    "colab": {
      "provenance": [],
      "authorship_tag": "ABX9TyM+hDEKojTR0877tvksV+rd",
      "include_colab_link": true
    },
    "kernelspec": {
      "name": "python3",
      "display_name": "Python 3"
    },
    "language_info": {
      "name": "python"
    }
  },
  "cells": [
    {
      "cell_type": "markdown",
      "metadata": {
        "id": "view-in-github",
        "colab_type": "text"
      },
      "source": [
        "<a href=\"https://colab.research.google.com/github/dulce22-05/Probabilidad-y-Estadistica-/blob/main/Unidad4/ejercicios_binomial_y_poisson.ipynb\" target=\"_parent\"><img src=\"https://colab.research.google.com/assets/colab-badge.svg\" alt=\"Open In Colab\"/></a>"
      ]
    },
    {
      "cell_type": "markdown",
      "source": [
        "# ejercicio 1"
      ],
      "metadata": {
        "id": "Yg-vGR_4IxHg"
      }
    },
    {
      "cell_type": "code",
      "execution_count": null,
      "metadata": {
        "id": "Mx86rjHrFlPD"
      },
      "outputs": [],
      "source": [
        "from scipy.stats import poisson\n",
        "\n",
        "# Parámetro de la distribución Poisson\n",
        "lambda_ = 5\n",
        "\n",
        "# a) P(X = 2)\n",
        "prob_dos = poisson.pmf(2, mu=lambda_)\n",
        "print(f\"🔹 a) Probabilidad de que ingresen 2 personas en un día: {prob_dos:.4f}\")\n",
        "\n",
        "# b) P(X > 10) = 1 - P(X <= 10)\n",
        "prob_mayor_10 = 1 - poisson.cdf(10, mu=lambda_)\n",
        "print(f\"🔹 b) Probabilidad de que ingresen MÁS de 10 personas: {prob_mayor_10:.4f}\")\n",
        "\n",
        "# Explicación sencilla para la parte b\n",
        "if prob_mayor_10 > 0.05:\n",
        "    print(\" Es razonablemente probable que ingresen más de 10 personas en un día.\")\n",
        "else:\n",
        "    print(\" Es poco probable que ingresen más de 10 personas en un día.\")\n"
      ]
    },
    {
      "cell_type": "markdown",
      "source": [
        "# ejercicio 2"
      ],
      "metadata": {
        "id": "G_FaIui0I1FW"
      }
    },
    {
      "cell_type": "code",
      "source": [
        "from scipy.stats import binom\n",
        "\n",
        "# Parámetros\n",
        "n = 1000       # Número de motores\n",
        "p = 0.001      # Probabilidad de defecto\n",
        "\n",
        "# a) P(X = 0)\n",
        "prob_0 = binom.pmf(0, n, p)\n",
        "\n",
        "# b) P(X = 3)\n",
        "prob_3 = binom.pmf(3, n, p)\n",
        "\n",
        "# c) P(X = 4)\n",
        "prob_4 = binom.pmf(4, n, p)\n",
        "\n",
        "# Mostrar resultados\n",
        "print(f\"🔹 a) Probabilidad de que ningún motor sea defectuoso: {prob_0:.4f}\")\n",
        "print(f\"🔹 b) Probabilidad de que EXACTAMENTE 3 sean defectuosos: {prob_3:.4f}\")\n",
        "print(f\"🔹 c) Probabilidad de que EXACTAMENTE 4 sean defectuosos: {prob_4:.4f}\")"
      ],
      "metadata": {
        "id": "VBl_w3WkIwCP"
      },
      "execution_count": null,
      "outputs": []
    }
  ]
}