{
  "nbformat": 4,
  "nbformat_minor": 0,
  "metadata": {
    "colab": {
      "provenance": [],
      "authorship_tag": "ABX9TyOb81U3QHDkyhkdQLDcUm+o",
      "include_colab_link": true
    },
    "kernelspec": {
      "name": "python3",
      "display_name": "Python 3"
    },
    "language_info": {
      "name": "python"
    }
  },
  "cells": [
    {
      "cell_type": "markdown",
      "metadata": {
        "id": "view-in-github",
        "colab_type": "text"
      },
      "source": [
        "<a href=\"https://colab.research.google.com/github/dulce22-05/Probabilidad-y-Estadistica-/blob/main/Unidad4/tareaEjercicio.ipynb\" target=\"_parent\"><img src=\"https://colab.research.google.com/assets/colab-badge.svg\" alt=\"Open In Colab\"/></a>"
      ]
    },
    {
      "cell_type": "code",
      "execution_count": 1,
      "metadata": {
        "id": "OgTR6rUw5p4Y"
      },
      "outputs": [],
      "source": [
        "from scipy.stats import norm\n",
        "\n",
        "# Datos del problema\n",
        "media = 70\n",
        "desviacion = 4\n",
        "n_estudiantes = 500\n",
        "\n",
        "# Rango que nos interesa: entre 68 y 72 kg\n",
        "limite_inferior = 68\n",
        "limite_superior = 72"
      ]
    },
    {
      "cell_type": "code",
      "source": [
        "probabilidad = norm.cdf(limite_superior, media, desviacion) - norm.cdf(limite_inferior, media, desviacion)\n",
        "porcentaje = probabilidad * 100\n",
        "print(f\"🔹 Probabilidad de pesar entre 68 y 72 kg: {probabilidad:.4f} ({porcentaje:.2f}%)\")"
      ],
      "metadata": {
        "colab": {
          "base_uri": "https://localhost:8080/"
        },
        "id": "DdmZDnCq6IVO",
        "outputId": "fffb2fc1-cd33-42cf-8e5d-3084db539df7"
      },
      "execution_count": 2,
      "outputs": [
        {
          "output_type": "stream",
          "name": "stdout",
          "text": [
            "🔹 Probabilidad de pesar entre 68 y 72 kg: 0.3829 (38.29%)\n"
          ]
        }
      ]
    },
    {
      "cell_type": "code",
      "source": [
        "cantidad_estudiantes = probabilidad * n_estudiantes\n",
        "print(f\"🔹 Estudiantes que pesan entre 68 y 72 kg: {cantidad_estudiantes:.0f} de {n_estudiantes}\")"
      ],
      "metadata": {
        "colab": {
          "base_uri": "https://localhost:8080/"
        },
        "id": "I9w3bCQD6P2Q",
        "outputId": "cce05c29-969e-4389-d9b4-2e344710a83f"
      },
      "execution_count": 3,
      "outputs": [
        {
          "output_type": "stream",
          "name": "stdout",
          "text": [
            "🔹 Estudiantes que pesan entre 68 y 72 kg: 191 de 500\n"
          ]
        }
      ]
    }
  ]
}